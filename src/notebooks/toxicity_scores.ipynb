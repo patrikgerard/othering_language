{
 "cells": [
  {
   "cell_type": "code",
   "execution_count": 1,
   "id": "a8426076-55f0-46e5-903d-9bb1f9b0ec65",
   "metadata": {},
   "outputs": [
    {
     "data": {
      "application/vnd.jupyter.widget-view+json": {
       "model_id": "cfa1a54e5da34990ade765ffafb380ca",
       "version_major": 2,
       "version_minor": 0
      },
      "text/plain": [
       "tokenizer_config.json:   0%|          | 0.00/25.0 [00:00<?, ?B/s]"
      ]
     },
     "metadata": {},
     "output_type": "display_data"
    },
    {
     "data": {
      "application/vnd.jupyter.widget-view+json": {
       "model_id": "27c3545459214d65938fb92f2f5b8e8b",
       "version_major": 2,
       "version_minor": 0
      },
      "text/plain": [
       "vocab.json:   0%|          | 0.00/798k [00:00<?, ?B/s]"
      ]
     },
     "metadata": {},
     "output_type": "display_data"
    },
    {
     "data": {
      "application/vnd.jupyter.widget-view+json": {
       "model_id": "cd66e531d8bf47e7bce937e80ac002a6",
       "version_major": 2,
       "version_minor": 0
      },
      "text/plain": [
       "merges.txt:   0%|          | 0.00/456k [00:00<?, ?B/s]"
      ]
     },
     "metadata": {},
     "output_type": "display_data"
    },
    {
     "data": {
      "application/vnd.jupyter.widget-view+json": {
       "model_id": "5c3f14b4a7d046c1b123cf20ebc2cb79",
       "version_major": 2,
       "version_minor": 0
      },
      "text/plain": [
       "special_tokens_map.json:   0%|          | 0.00/239 [00:00<?, ?B/s]"
      ]
     },
     "metadata": {},
     "output_type": "display_data"
    },
    {
     "name": "stderr",
     "output_type": "stream",
     "text": [
      "/nas/home/pgerard/miniconda3/lib/python3.11/site-packages/huggingface_hub/file_download.py:1132: FutureWarning: `resume_download` is deprecated and will be removed in version 1.0.0. Downloads always resume when possible. If you want to force a new download, use `force_download=True`.\n",
      "  warnings.warn(\n"
     ]
    },
    {
     "data": {
      "application/vnd.jupyter.widget-view+json": {
       "model_id": "0cbdb7db30194e298fb66dd9cfac76c1",
       "version_major": 2,
       "version_minor": 0
      },
      "text/plain": [
       "config.json:   0%|          | 0.00/794 [00:00<?, ?B/s]"
      ]
     },
     "metadata": {},
     "output_type": "display_data"
    },
    {
     "data": {
      "application/vnd.jupyter.widget-view+json": {
       "model_id": "ad2da118a3f0400b803af8b01980fabe",
       "version_major": 2,
       "version_minor": 0
      },
      "text/plain": [
       "pytorch_model.bin:   0%|          | 0.00/501M [00:00<?, ?B/s]"
      ]
     },
     "metadata": {},
     "output_type": "display_data"
    },
    {
     "name": "stderr",
     "output_type": "stream",
     "text": [
      "/nas/home/pgerard/miniconda3/lib/python3.11/site-packages/torch/_utils.py:776: UserWarning: TypedStorage is deprecated. It will be removed in the future and UntypedStorage will be the only storage class. This should only matter to you if you are using storages directly.  To access UntypedStorage directly, use tensor.untyped_storage() instead of tensor.storage()\n",
      "  return self.fget.__get__(instance, owner)()\n",
      "Some weights of the model checkpoint at SkolkovoInstitute/roberta_toxicity_classifier were not used when initializing RobertaForSequenceClassification: ['roberta.pooler.dense.bias', 'roberta.pooler.dense.weight']\n",
      "- This IS expected if you are initializing RobertaForSequenceClassification from the checkpoint of a model trained on another task or with another architecture (e.g. initializing a BertForSequenceClassification model from a BertForPreTraining model).\n",
      "- This IS NOT expected if you are initializing RobertaForSequenceClassification from the checkpoint of a model that you expect to be exactly identical (initializing a BertForSequenceClassification model from a BertForSequenceClassification model).\n"
     ]
    },
    {
     "name": "stdout",
     "output_type": "stream",
     "text": [
      "Text: It's not always about how good your story is...It's about how many people are willing, and able, to pass it on.https://www.youtube.com/watch?v=lyvylw5Lwx0How do you convince blue-pilled White people to pay attention and pass on the 'story' of white genocide and the JQ? ;)Q: How well are 'big nose' memes, childish insults, obscenities and vitriol working out for you? ;)Common courtesy and mature behavior might work better, perhaps?#memetics #propaganda #truth\n",
      "Toxic Score: 0.018002301454544067\n",
      "Neutral Score: 0.9819976687431335\n"
     ]
    }
   ],
   "source": [
    "from transformers import RobertaTokenizer, RobertaForSequenceClassification\n",
    "import torch\n",
    "\n",
    "# Load the tokenizer and model\n",
    "tokenizer = RobertaTokenizer.from_pretrained('SkolkovoInstitute/roberta_toxicity_classifier')\n",
    "model = RobertaForSequenceClassification.from_pretrained('SkolkovoInstitute/roberta_toxicity_classifier')\n",
    "\n",
    "# Example text\n",
    "example_text = \"It's not always about how good your story is...It's about how many people are willing, and able, to pass it on.\"\"https://www.youtube.com/watch?v=lyvylw5Lwx0How do you convince blue-pilled White people to pay attention and pass on the 'story' of white genocide and the JQ? ;)Q: How well are 'big nose' memes, childish insults, obscenities and vitriol working out for you? ;)Common courtesy and mature behavior might work better, perhaps?#memetics #propaganda #truth\"\n",
    "\n",
    "# Tokenize and prepare the input\n",
    "inputs = tokenizer.encode(example_text, return_tensors='pt')\n",
    "\n",
    "# Run inference\n",
    "outputs = model(inputs)\n",
    "\n",
    "# Get the scores\n",
    "scores = torch.softmax(outputs.logits, dim=1)\n",
    "toxic_score = scores[0][1].item()\n",
    "neutral_score = scores[0][0].item()\n",
    "\n",
    "# Print the results\n",
    "print(f\"Text: {example_text}\")\n",
    "print(f\"Toxic Score: {toxic_score}\")\n",
    "print(f\"Neutral Score: {neutral_score}\")\n"
   ]
  },
  {
   "cell_type": "code",
   "execution_count": null,
   "id": "bf36fa18-bbaa-4218-b535-53e4340a2949",
   "metadata": {},
   "outputs": [],
   "source": []
  }
 ],
 "metadata": {
  "kernelspec": {
   "display_name": "Python 3 (ipykernel)",
   "language": "python",
   "name": "python3"
  },
  "language_info": {
   "codemirror_mode": {
    "name": "ipython",
    "version": 3
   },
   "file_extension": ".py",
   "mimetype": "text/x-python",
   "name": "python",
   "nbconvert_exporter": "python",
   "pygments_lexer": "ipython3",
   "version": "3.11.4"
  }
 },
 "nbformat": 4,
 "nbformat_minor": 5
}
